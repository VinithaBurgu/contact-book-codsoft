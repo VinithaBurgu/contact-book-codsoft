{
 "cells": [
  {
   "cell_type": "markdown",
   "id": "6586e6b4-9daa-470e-b2f6-2a847eca2ebe",
   "metadata": {},
   "source": [
    "Contact Book"
   ]
  },
  {
   "cell_type": "code",
   "execution_count": 1,
   "id": "145d5eab-b25a-47b4-9178-5f33d2129fc7",
   "metadata": {},
   "outputs": [
    {
     "name": "stdout",
     "output_type": "stream",
     "text": [
      "==================================================\n",
      "\t\tCONTACT MANAGEMENT SYSTEM\t\t\n",
      "==================================================\n",
      "\t\t1. Add Contact\n",
      "\t\t2. View Contact List\n",
      "\t\t3. Search Contact\n",
      "\t\t4. Update Contact\n",
      "\t\t5. Delete Contact\n",
      "\t\t6. Exit\n",
      "==================================================\n"
     ]
    },
    {
     "name": "stdin",
     "output_type": "stream",
     "text": [
      "Enter Your Choice:  1\n",
      "Enter Name:  vinitha\n",
      "Enter Phone Number:  954782148\n",
      "Enter Email:  vinithaburgu24@gmail.com\n",
      "Enter Address:  hyd\n"
     ]
    },
    {
     "name": "stdout",
     "output_type": "stream",
     "text": [
      "Contact added successfully!\n",
      "==================================================\n",
      "\t\tCONTACT MANAGEMENT SYSTEM\t\t\n",
      "==================================================\n",
      "\t\t1. Add Contact\n",
      "\t\t2. View Contact List\n",
      "\t\t3. Search Contact\n",
      "\t\t4. Update Contact\n",
      "\t\t5. Delete Contact\n",
      "\t\t6. Exit\n",
      "==================================================\n"
     ]
    },
    {
     "name": "stdin",
     "output_type": "stream",
     "text": [
      "Enter Your Choice:  2\n"
     ]
    },
    {
     "name": "stdout",
     "output_type": "stream",
     "text": [
      "Contact Info:\n",
      "Name: vinitha\n",
      "Phone: 954782148\n",
      "Email: vinithaburgu24@gmail.com\n",
      "Address: hyd\n",
      "\n",
      "==================================================\n",
      "\t\tCONTACT MANAGEMENT SYSTEM\t\t\n",
      "==================================================\n",
      "\t\t1. Add Contact\n",
      "\t\t2. View Contact List\n",
      "\t\t3. Search Contact\n",
      "\t\t4. Update Contact\n",
      "\t\t5. Delete Contact\n",
      "\t\t6. Exit\n",
      "==================================================\n"
     ]
    },
    {
     "name": "stdin",
     "output_type": "stream",
     "text": [
      "Enter Your Choice:  3\n",
      "Enter name or phone number to search:  vinitha\n"
     ]
    },
    {
     "name": "stdout",
     "output_type": "stream",
     "text": [
      "Contact Info:\n",
      "Name: vinitha\n",
      "Phone: 954782148\n",
      "Email: vinithaburgu24@gmail.com\n",
      "Address: hyd\n",
      "\n",
      "==================================================\n",
      "\t\tCONTACT MANAGEMENT SYSTEM\t\t\n",
      "==================================================\n",
      "\t\t1. Add Contact\n",
      "\t\t2. View Contact List\n",
      "\t\t3. Search Contact\n",
      "\t\t4. Update Contact\n",
      "\t\t5. Delete Contact\n",
      "\t\t6. Exit\n",
      "==================================================\n"
     ]
    },
    {
     "name": "stdin",
     "output_type": "stream",
     "text": [
      "Enter Your Choice:  4\n",
      "Enter the name of the contact to update:  vinitha\n",
      "Enter new name:  p vinitha\n",
      "Enter new phone number:  \n",
      "Enter new email:  \n",
      "Enter new address:  \n"
     ]
    },
    {
     "name": "stdout",
     "output_type": "stream",
     "text": [
      "Contact updated successfully!\n",
      "==================================================\n",
      "\t\tCONTACT MANAGEMENT SYSTEM\t\t\n",
      "==================================================\n",
      "\t\t1. Add Contact\n",
      "\t\t2. View Contact List\n",
      "\t\t3. Search Contact\n",
      "\t\t4. Update Contact\n",
      "\t\t5. Delete Contact\n",
      "\t\t6. Exit\n",
      "==================================================\n"
     ]
    },
    {
     "name": "stdin",
     "output_type": "stream",
     "text": [
      "Enter Your Choice:  2\n"
     ]
    },
    {
     "name": "stdout",
     "output_type": "stream",
     "text": [
      "Contact Info:\n",
      "Name: p vinitha\n",
      "Phone: 954782148\n",
      "Email: vinithaburgu24@gmail.com\n",
      "Address: hyd\n",
      "\n",
      "==================================================\n",
      "\t\tCONTACT MANAGEMENT SYSTEM\t\t\n",
      "==================================================\n",
      "\t\t1. Add Contact\n",
      "\t\t2. View Contact List\n",
      "\t\t3. Search Contact\n",
      "\t\t4. Update Contact\n",
      "\t\t5. Delete Contact\n",
      "\t\t6. Exit\n",
      "==================================================\n"
     ]
    },
    {
     "name": "stdin",
     "output_type": "stream",
     "text": [
      "Enter Your Choice:  5\n",
      "Enter the name of the contact to delete:  vinitha\n"
     ]
    },
    {
     "name": "stdout",
     "output_type": "stream",
     "text": [
      "Contact not found.\n",
      "==================================================\n",
      "\t\tCONTACT MANAGEMENT SYSTEM\t\t\n",
      "==================================================\n",
      "\t\t1. Add Contact\n",
      "\t\t2. View Contact List\n",
      "\t\t3. Search Contact\n",
      "\t\t4. Update Contact\n",
      "\t\t5. Delete Contact\n",
      "\t\t6. Exit\n",
      "==================================================\n"
     ]
    },
    {
     "name": "stdin",
     "output_type": "stream",
     "text": [
      "Enter Your Choice:  p vinitha\n"
     ]
    },
    {
     "name": "stdout",
     "output_type": "stream",
     "text": [
      "Invalid input! Please enter a number corresponding to the menu options.\n",
      "==================================================\n",
      "\t\tCONTACT MANAGEMENT SYSTEM\t\t\n",
      "==================================================\n",
      "\t\t1. Add Contact\n",
      "\t\t2. View Contact List\n",
      "\t\t3. Search Contact\n",
      "\t\t4. Update Contact\n",
      "\t\t5. Delete Contact\n",
      "\t\t6. Exit\n",
      "==================================================\n"
     ]
    },
    {
     "name": "stdin",
     "output_type": "stream",
     "text": [
      "Enter Your Choice:  5\n",
      "Enter the name of the contact to delete:  p vinitha\n"
     ]
    },
    {
     "name": "stdout",
     "output_type": "stream",
     "text": [
      "Contact deleted successfully!\n",
      "==================================================\n",
      "\t\tCONTACT MANAGEMENT SYSTEM\t\t\n",
      "==================================================\n",
      "\t\t1. Add Contact\n",
      "\t\t2. View Contact List\n",
      "\t\t3. Search Contact\n",
      "\t\t4. Update Contact\n",
      "\t\t5. Delete Contact\n",
      "\t\t6. Exit\n",
      "==================================================\n"
     ]
    },
    {
     "name": "stdin",
     "output_type": "stream",
     "text": [
      "Enter Your Choice:  6\n"
     ]
    },
    {
     "name": "stdout",
     "output_type": "stream",
     "text": [
      "Thank you for using the contact book!\n"
     ]
    }
   ],
   "source": [
    "import re  # Required for email validation\n",
    "\n",
    "class Contact:\n",
    "    def __init__(self, name, phone, email, address):\n",
    "        self.name = name\n",
    "        self.phone = phone\n",
    "        self.email = email\n",
    "        self.address = address\n",
    "\n",
    "    def __str__(self):\n",
    "        return \"Contact Info:\\nName: {}\\nPhone: {}\\nEmail: {}\\nAddress: {}\\n\".format(\n",
    "            self.name, self.phone, self.email, self.address\n",
    "        )\n",
    "\n",
    "def contact_menu():\n",
    "    print(\"=\" * 50)\n",
    "    print(\"\\t\\tCONTACT MANAGEMENT SYSTEM\\t\\t\")\n",
    "    print(\"=\" * 50)\n",
    "    print(\"\\t\\t1. Add Contact\")\n",
    "    print(\"\\t\\t2. View Contact List\")\n",
    "    print(\"\\t\\t3. Search Contact\")\n",
    "    print(\"\\t\\t4. Update Contact\")\n",
    "    print(\"\\t\\t5. Delete Contact\")\n",
    "    print(\"\\t\\t6. Exit\")\n",
    "    print(\"=\" * 50)\n",
    "\n",
    "# Main Program\n",
    "contacts = []\n",
    "\n",
    "while True:\n",
    "    try:\n",
    "        contact_menu()\n",
    "        choice = int(input(\"Enter Your Choice: \"))\n",
    "        \n",
    "        if choice == 6:\n",
    "            print(\"Thank you for using the contact book!\")\n",
    "            break\n",
    "        \n",
    "        elif choice in (1, 2, 3, 4, 5):\n",
    "            if choice == 1:  # Add Contact\n",
    "                try:\n",
    "                    name = input(\"Enter Name: \").strip()\n",
    "                    if not name:\n",
    "                        raise ValueError(\"Name cannot be empty.\")\n",
    "                    \n",
    "                    phone = input(\"Enter Phone Number: \").strip()\n",
    "                    if not phone or not phone.isdigit():\n",
    "                        raise ValueError(\"Please enter a valid phone number (only digits).\")\n",
    "                    \n",
    "                    email = input(\"Enter Email: \").strip()\n",
    "                    email_pattern = r\"^[a-zA-Z0-9._%+-]+@[a-zA-Z0-9.-]+\\.[a-zA-Z]{2,}$\"\n",
    "                    if not re.match(email_pattern, email):\n",
    "                        raise ValueError(\"Please enter a valid email address.\")\n",
    "                    \n",
    "                    address = input(\"Enter Address: \").strip()\n",
    "                    if not address:\n",
    "                        raise ValueError(\"Address cannot be empty.\")\n",
    "                    \n",
    "                    new_contact = Contact(name, phone, email, address)\n",
    "                    contacts.append(new_contact)\n",
    "                    print(\"Contact added successfully!\")\n",
    "                except ValueError as e:\n",
    "                    print(f\"Error: {e}\")\n",
    "\n",
    "            elif choice == 2:  # View Contacts\n",
    "                if not contacts:\n",
    "                    print(\"No contacts available.\")\n",
    "                else:\n",
    "                    for contact in contacts:\n",
    "                        print(contact)\n",
    "\n",
    "            elif choice == 3:  # Search Contact\n",
    "                search_term = input(\"Enter name or phone number to search: \").strip()\n",
    "                found = False\n",
    "                for contact in contacts:\n",
    "                    if search_term.lower() in contact.name.lower() or search_term in contact.phone:\n",
    "                        print(contact)\n",
    "                        found = True\n",
    "                if not found:\n",
    "                    print(\"Contact not found.\")\n",
    "\n",
    "            elif choice == 4:  # Update Contact\n",
    "                name_to_update = input(\"Enter the name of the contact to update: \").strip()\n",
    "                updated = False\n",
    "                for contact in contacts:\n",
    "                    if contact.name.lower() == name_to_update.lower():\n",
    "                        new_name = input(\"Enter new name: \").strip()\n",
    "                        new_phone = input(\"Enter new phone number: \").strip()\n",
    "                        new_email = input(\"Enter new email: \").strip()\n",
    "                        new_address = input(\"Enter new address: \").strip()\n",
    "                        contact.name = new_name if new_name else contact.name\n",
    "                        contact.phone = new_phone if new_phone else contact.phone\n",
    "                        contact.email = new_email if new_email else contact.email\n",
    "                        contact.address = new_address if new_address else contact.address\n",
    "                        print(\"Contact updated successfully!\")\n",
    "                        updated = True\n",
    "                        break\n",
    "                if not updated:\n",
    "                    print(\"Contact not found.\")\n",
    "\n",
    "            elif choice == 5:  # Delete Contact\n",
    "                name_to_delete = input(\"Enter the name of the contact to delete: \").strip()\n",
    "                deleted = False\n",
    "                for contact in contacts:\n",
    "                    if contact.name.lower() == name_to_delete.lower():\n",
    "                        contacts.remove(contact)\n",
    "                        print(\"Contact deleted successfully!\")\n",
    "                        deleted = True\n",
    "                        break\n",
    "                if not deleted:\n",
    "                    print(\"Contact not found.\")\n",
    "        \n",
    "        else:\n",
    "            print(\"Invalid choice! Please select a valid operation.\")\n",
    "    \n",
    "    except ValueError:\n",
    "        print(\"Invalid input! Please enter a number corresponding to the menu options.\")\n"
   ]
  },
  {
   "cell_type": "code",
   "execution_count": null,
   "id": "de185d7a-cf5d-47ac-86b6-9c07e580e406",
   "metadata": {},
   "outputs": [],
   "source": []
  }
 ],
 "metadata": {
  "kernelspec": {
   "display_name": "Python 3 (ipykernel)",
   "language": "python",
   "name": "python3"
  },
  "language_info": {
   "codemirror_mode": {
    "name": "ipython",
    "version": 3
   },
   "file_extension": ".py",
   "mimetype": "text/x-python",
   "name": "python",
   "nbconvert_exporter": "python",
   "pygments_lexer": "ipython3",
   "version": "3.12.4"
  }
 },
 "nbformat": 4,
 "nbformat_minor": 5
}
